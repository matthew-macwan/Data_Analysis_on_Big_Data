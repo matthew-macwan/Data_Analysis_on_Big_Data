{
 "cells": [
  {
   "cell_type": "markdown",
   "id": "9dea55b4",
   "metadata": {},
   "source": [
    "# Working with Millions of Rows in Datasets\n",
    "\n",
    "Data can grow and get very large. In the real world, many of us won't be working with small datasets like titanic or boston housing that we use on online courses and classes. An important skill any analyst or scientist should know is working with datasets that have millions of rows of data. Not just the basic Boston Housing datasets or Titanic. There are many things to watch for such RAM memory, CPU storage, and the operations you run on the dataset which can be computationally expensive. \n",
    "\n",
    "\n",
    "In order to demonstrate the differences when working with the large datasets, I downloaded two datasets from NYC OpenData, one is a 15.5 GB dataset containing 27.2 M rows about 311 Service Requests and the other is 400 MB dataset containing 1.8 M rows about NYC car crashes. \n",
    "\n",
    "They can be downloaded here.\n",
    "\n",
    "- Service Requests. - https://data.cityofnewyork.us/Social-Services/311-Service-Requests-from-2010-to-Present/erm2-nwe9\n",
    "- Motor Vehicle Crashes. - https://data.cityofnewyork.us/Public-Safety/Motor-Vehicle-Collisions-Crashes/h9gi-nx95\n"
   ]
  },
  {
   "cell_type": "code",
   "execution_count": 13,
   "id": "142f7e5a",
   "metadata": {},
   "outputs": [],
   "source": [
    "#import some packages\n",
    "\n",
    "import numpy as np \n",
    "import pandas as pd \n",
    "import matplotlib.pyplot as plt\n",
    "\n",
    "import os, sys\n",
    "import psutil"
   ]
  },
  {
   "cell_type": "code",
   "execution_count": 2,
   "id": "5e713beb",
   "metadata": {},
   "outputs": [
    {
     "name": "stdout",
     "output_type": "stream",
     "text": [
      "File Size: 15580346648 bytes\n"
     ]
    }
   ],
   "source": [
    "#let's look at the size of the Service Requests file\n",
    "\n",
    "path = '/Users/matthew_macwan/Downloads/CIS/Big_Data/ServiceRequests_311.csv'\n",
    "\n",
    "stats = os.stat(path)\n",
    "print('File Size:', stats.st_size, 'bytes')"
   ]
  },
  {
   "cell_type": "code",
   "execution_count": 3,
   "id": "f2eb51a8",
   "metadata": {},
   "outputs": [
    {
     "name": "stdout",
     "output_type": "stream",
     "text": [
      "File Size: 396898084 bytes\n"
     ]
    }
   ],
   "source": [
    "#let's look at the size of the Collision Crashes file\n",
    "\n",
    "path = '/Users/matthew_macwan/Downloads/CIS/Big_Data/Motor_Vehicle_Collisions_Crashes.csv'\n",
    "\n",
    "stats = os.stat(path)\n",
    "print('File Size:', stats.st_size, 'bytes')"
   ]
  },
  {
   "cell_type": "code",
   "execution_count": 4,
   "id": "363febff",
   "metadata": {},
   "outputs": [
    {
     "data": {
      "text/plain": [
       "svmem(total=8589934592, available=5695758336, percent=33.7, used=2471702528, free=3150237696, active=965853184, inactive=2517954560, wired=1505849344)"
      ]
     },
     "execution_count": 4,
     "metadata": {},
     "output_type": "execute_result"
    }
   ],
   "source": [
    "psutil.virtual_memory()"
   ]
  },
  {
   "cell_type": "markdown",
   "id": "52565c7e",
   "metadata": {},
   "source": [
    "We can see that I do not have enough memory to compute the service requests file and the collision crashes file will take up alot of my available memory. Pandas works well with small to medium size datasets which makes it a great choice for that. However, large datasets can be too big for your memory and can cause a crash. Sometimes, you'll have enough memory to load in a large dataset but running computations will cause an out of memory error. \n",
    "\n",
    "We will look at two Python libraries for dealing with large datasets. They are the following:\n",
    "\n",
    "   - Datatable \n",
    "   - Dask "
   ]
  },
  {
   "cell_type": "markdown",
   "id": "fb9dc445",
   "metadata": {},
   "source": [
    "### Using Datatable Library"
   ]
  },
  {
   "cell_type": "code",
   "execution_count": 5,
   "id": "ca0b9832",
   "metadata": {},
   "outputs": [
    {
     "data": {
      "text/html": [
       "<style type='text/css'>\n",
       ".datatable table.frame { margin-bottom: 0; }\n",
       ".datatable table.frame thead { border-bottom: none; }\n",
       ".datatable table.frame tr.coltypes td {  color: #FFFFFF;  line-height: 6px;  padding: 0 0.5em;}\n",
       ".datatable .bool    { background: #DDDD99; }\n",
       ".datatable .object  { background: #565656; }\n",
       ".datatable .int     { background: #5D9E5D; }\n",
       ".datatable .float   { background: #4040CC; }\n",
       ".datatable .str     { background: #CC4040; }\n",
       ".datatable .time    { background: #40CC40; }\n",
       ".datatable .row_index {  background: var(--jp-border-color3);  border-right: 1px solid var(--jp-border-color0);  color: var(--jp-ui-font-color3);  font-size: 9px;}\n",
       ".datatable .frame tbody td { text-align: left; }\n",
       ".datatable .frame tr.coltypes .row_index {  background: var(--jp-border-color0);}\n",
       ".datatable th:nth-child(2) { padding-left: 12px; }\n",
       ".datatable .hellipsis {  color: var(--jp-cell-editor-border-color);}\n",
       ".datatable .vellipsis {  background: var(--jp-layout-color0);  color: var(--jp-cell-editor-border-color);}\n",
       ".datatable .na {  color: var(--jp-cell-editor-border-color);  font-size: 80%;}\n",
       ".datatable .sp {  opacity: 0.25;}\n",
       ".datatable .footer { font-size: 9px; }\n",
       ".datatable .frame_dimensions {  background: var(--jp-border-color3);  border-top: 1px solid var(--jp-border-color0);  color: var(--jp-ui-font-color3);  display: inline-block;  opacity: 0.6;  padding: 1px 10px 1px 5px;}\n",
       ".datatable .frame thead tr.colnames {  background-image: url('data:image/png;base64,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');  background-repeat: repeat-x;  background-size: 14px;  height: 28px;}\n",
       "</style>\n"
      ],
      "text/plain": [
       "<IPython.core.display.HTML object>"
      ]
     },
     "metadata": {},
     "output_type": "display_data"
    }
   ],
   "source": [
    "import datatable as dt "
   ]
  },
  {
   "cell_type": "code",
   "execution_count": 6,
   "id": "edbb8bd8",
   "metadata": {},
   "outputs": [
    {
     "name": "stdout",
     "output_type": "stream",
     "text": [
      "CPU times: user 4.69 s, sys: 484 ms, total: 5.18 s\n",
      "Wall time: 2 s\n"
     ]
    },
    {
     "data": {
      "text/html": [
       "<div class='datatable'>\n",
       "  <table class='frame'>\n",
       "  <thead>\n",
       "    <tr class='colnames'><td class='row_index'></td><th>CRASH DATE</th><th>CRASH TIME</th><th>BOROUGH</th><th>ZIP CODE</th><th>LATITUDE</th><th>LONGITUDE</th><th>LOCATION</th><th>ON STREET NAME</th><th>CROSS STREET NAME</th><th>OFF STREET NAME</th><th class='vellipsis'>&hellip;</th><th>VEHICLE TYPE CODE 1</th><th>VEHICLE TYPE CODE 2</th><th>VEHICLE TYPE CODE 3</th><th>VEHICLE TYPE CODE 4</th><th>VEHICLE TYPE CODE 5</th></tr>\n",
       "    <tr class='coltypes'><td class='row_index'></td><td class='str' title='str32'>&#x25AA;&#x25AA;&#x25AA;&#x25AA;</td><td class='str' title='str32'>&#x25AA;&#x25AA;&#x25AA;&#x25AA;</td><td class='str' title='str32'>&#x25AA;&#x25AA;&#x25AA;&#x25AA;</td><td class='int' title='int32'>&#x25AA;&#x25AA;&#x25AA;&#x25AA;</td><td class='float' title='float64'>&#x25AA;&#x25AA;&#x25AA;&#x25AA;&#x25AA;&#x25AA;&#x25AA;&#x25AA;</td><td class='float' title='float64'>&#x25AA;&#x25AA;&#x25AA;&#x25AA;&#x25AA;&#x25AA;&#x25AA;&#x25AA;</td><td class='str' title='str32'>&#x25AA;&#x25AA;&#x25AA;&#x25AA;</td><td class='str' title='str32'>&#x25AA;&#x25AA;&#x25AA;&#x25AA;</td><td class='str' title='str32'>&#x25AA;&#x25AA;&#x25AA;&#x25AA;</td><td class='str' title='str32'>&#x25AA;&#x25AA;&#x25AA;&#x25AA;</td><td></td><td class='str' title='str32'>&#x25AA;&#x25AA;&#x25AA;&#x25AA;</td><td class='str' title='str32'>&#x25AA;&#x25AA;&#x25AA;&#x25AA;</td><td class='str' title='str32'>&#x25AA;&#x25AA;&#x25AA;&#x25AA;</td><td class='str' title='str32'>&#x25AA;&#x25AA;&#x25AA;&#x25AA;</td><td class='str' title='str32'>&#x25AA;&#x25AA;&#x25AA;&#x25AA;</td></tr>\n",
       "  </thead>\n",
       "  <tbody>\n",
       "    <tr><td class='row_index'>0</td><td>04/14/2021</td><td>5:32</td><td></td><td><span class=na>NA</span></td><td><span class=na>NA</span></td><td><span class=na>NA</span></td><td></td><td>BRONX WHITESTONE BRIDGE</td><td></td><td></td><td class=vellipsis>&hellip;</td><td>Sedan</td><td>Sedan</td><td></td><td></td><td></td></tr>\n",
       "    <tr><td class='row_index'>1</td><td>04/13/2021</td><td>21:35</td><td>BROOKLYN</td><td>11217</td><td>40.6836</td><td>&minus;73.9762</td><td>(40.68358, -73.97617)</td><td></td><td></td><td>620       ATLANTIC AVENUE</td><td class=vellipsis>&hellip;</td><td>Sedan</td><td></td><td></td><td></td><td></td></tr>\n",
       "    <tr><td class='row_index'>2</td><td>04/15/2021</td><td>16:15</td><td></td><td><span class=na>NA</span></td><td><span class=na>NA</span></td><td><span class=na>NA</span></td><td></td><td>HUTCHINSON RIVER PARKWAY</td><td></td><td></td><td class=vellipsis>&hellip;</td><td>Station Wagon/Sport Utility Vehicle</td><td></td><td></td><td></td><td></td></tr>\n",
       "    <tr><td class='row_index'>3</td><td>04/13/2021</td><td>16:00</td><td>BROOKLYN</td><td>11222</td><td><span class=na>NA</span></td><td><span class=na>NA</span></td><td></td><td>VANDERVORT AVENUE</td><td>ANTHONY STREET</td><td></td><td class=vellipsis>&hellip;</td><td>Sedan</td><td></td><td></td><td></td><td></td></tr>\n",
       "    <tr><td class='row_index'>4</td><td>04/12/2021</td><td>8:25</td><td></td><td><span class=na>NA</span></td><td>0</td><td>0</td><td>(0.0, 0.0)</td><td>EDSON AVENUE</td><td></td><td></td><td class=vellipsis>&hellip;</td><td>Station Wagon/Sport Utility Vehicle</td><td>Sedan</td><td></td><td></td><td></td></tr>\n",
       "    <tr><td class='row_index'>5</td><td>04/13/2021</td><td>17:11</td><td></td><td><span class=na>NA</span></td><td><span class=na>NA</span></td><td><span class=na>NA</span></td><td></td><td>VERRAZANO BRIDGE UPPER</td><td></td><td></td><td class=vellipsis>&hellip;</td><td>Sedan</td><td>Box Truck</td><td></td><td></td><td></td></tr>\n",
       "    <tr><td class='row_index'>6</td><td>04/13/2021</td><td>17:30</td><td>QUEENS</td><td>11106</td><td><span class=na>NA</span></td><td><span class=na>NA</span></td><td></td><td>33 st</td><td>31ave</td><td></td><td class=vellipsis>&hellip;</td><td>Sedan</td><td>Sedan</td><td></td><td></td><td></td></tr>\n",
       "    <tr><td class='row_index'>7</td><td>04/16/2021</td><td>23:30</td><td></td><td><span class=na>NA</span></td><td><span class=na>NA</span></td><td><span class=na>NA</span></td><td></td><td>SHORE PARKWAY</td><td></td><td></td><td class=vellipsis>&hellip;</td><td>Sedan</td><td></td><td></td><td></td><td></td></tr>\n",
       "    <tr><td class='row_index'>8</td><td>04/11/2021</td><td>17:00</td><td></td><td><span class=na>NA</span></td><td><span class=na>NA</span></td><td><span class=na>NA</span></td><td></td><td>GOWANUS RAMP</td><td></td><td></td><td class=vellipsis>&hellip;</td><td>Sedan</td><td>Sedan</td><td></td><td></td><td></td></tr>\n",
       "    <tr><td class='row_index'>9</td><td>04/16/2021</td><td>21:15</td><td></td><td><span class=na>NA</span></td><td><span class=na>NA</span></td><td><span class=na>NA</span></td><td></td><td>BRONX RIVER PARKWAY RAMP</td><td></td><td></td><td class=vellipsis>&hellip;</td><td>Station Wagon/Sport Utility Vehicle</td><td>Sedan</td><td></td><td></td><td></td></tr>\n",
       "  </tbody>\n",
       "  </table>\n",
       "  <div class='footer'>\n",
       "    <div class='frame_dimensions'>10 rows &times; 29 columns</div>\n",
       "  </div>\n",
       "</div>\n"
      ],
      "text/plain": [
       "<Frame#7fce39be2ab0 10x29>"
      ]
     },
     "execution_count": 6,
     "metadata": {},
     "output_type": "execute_result"
    }
   ],
   "source": [
    "#load the collision_crashes.csv with Datatable\n",
    "\n",
    "file = '/Users/matthew_macwan/Downloads/CIS/Big_Data/Motor_Vehicle_Collisions_Crashes.csv'\n",
    "\n",
    "%time data = dt.fread(file)\n",
    "data.head()"
   ]
  },
  {
   "cell_type": "code",
   "execution_count": 7,
   "id": "96c7cea9",
   "metadata": {},
   "outputs": [
    {
     "name": "stderr",
     "output_type": "stream",
     "text": [
      "/Users/matthew_macwan/opt/anaconda3/lib/python3.8/site-packages/decorator.py:231: DtypeWarning: Columns (3) have mixed types.Specify dtype option on import or set low_memory=False.\n",
      "  return caller(func, *(extras + args), **kw)\n"
     ]
    },
    {
     "name": "stdout",
     "output_type": "stream",
     "text": [
      "CPU times: user 8.01 s, sys: 748 ms, total: 8.75 s\n",
      "Wall time: 9.13 s\n"
     ]
    },
    {
     "data": {
      "text/html": [
       "<div>\n",
       "<style scoped>\n",
       "    .dataframe tbody tr th:only-of-type {\n",
       "        vertical-align: middle;\n",
       "    }\n",
       "\n",
       "    .dataframe tbody tr th {\n",
       "        vertical-align: top;\n",
       "    }\n",
       "\n",
       "    .dataframe thead th {\n",
       "        text-align: right;\n",
       "    }\n",
       "</style>\n",
       "<table border=\"1\" class=\"dataframe\">\n",
       "  <thead>\n",
       "    <tr style=\"text-align: right;\">\n",
       "      <th></th>\n",
       "      <th>CRASH DATE</th>\n",
       "      <th>CRASH TIME</th>\n",
       "      <th>BOROUGH</th>\n",
       "      <th>ZIP CODE</th>\n",
       "      <th>LATITUDE</th>\n",
       "      <th>LONGITUDE</th>\n",
       "      <th>LOCATION</th>\n",
       "      <th>ON STREET NAME</th>\n",
       "      <th>CROSS STREET NAME</th>\n",
       "      <th>OFF STREET NAME</th>\n",
       "      <th>...</th>\n",
       "      <th>CONTRIBUTING FACTOR VEHICLE 2</th>\n",
       "      <th>CONTRIBUTING FACTOR VEHICLE 3</th>\n",
       "      <th>CONTRIBUTING FACTOR VEHICLE 4</th>\n",
       "      <th>CONTRIBUTING FACTOR VEHICLE 5</th>\n",
       "      <th>COLLISION_ID</th>\n",
       "      <th>VEHICLE TYPE CODE 1</th>\n",
       "      <th>VEHICLE TYPE CODE 2</th>\n",
       "      <th>VEHICLE TYPE CODE 3</th>\n",
       "      <th>VEHICLE TYPE CODE 4</th>\n",
       "      <th>VEHICLE TYPE CODE 5</th>\n",
       "    </tr>\n",
       "  </thead>\n",
       "  <tbody>\n",
       "    <tr>\n",
       "      <th>0</th>\n",
       "      <td>04/14/2021</td>\n",
       "      <td>5:32</td>\n",
       "      <td>NaN</td>\n",
       "      <td>NaN</td>\n",
       "      <td>NaN</td>\n",
       "      <td>NaN</td>\n",
       "      <td>NaN</td>\n",
       "      <td>BRONX WHITESTONE BRIDGE</td>\n",
       "      <td>NaN</td>\n",
       "      <td>NaN</td>\n",
       "      <td>...</td>\n",
       "      <td>Unspecified</td>\n",
       "      <td>NaN</td>\n",
       "      <td>NaN</td>\n",
       "      <td>NaN</td>\n",
       "      <td>4407480</td>\n",
       "      <td>Sedan</td>\n",
       "      <td>Sedan</td>\n",
       "      <td>NaN</td>\n",
       "      <td>NaN</td>\n",
       "      <td>NaN</td>\n",
       "    </tr>\n",
       "    <tr>\n",
       "      <th>1</th>\n",
       "      <td>04/13/2021</td>\n",
       "      <td>21:35</td>\n",
       "      <td>BROOKLYN</td>\n",
       "      <td>11217.0</td>\n",
       "      <td>40.68358</td>\n",
       "      <td>-73.97617</td>\n",
       "      <td>(40.68358, -73.97617)</td>\n",
       "      <td>NaN</td>\n",
       "      <td>NaN</td>\n",
       "      <td>620       ATLANTIC AVENUE</td>\n",
       "      <td>...</td>\n",
       "      <td>NaN</td>\n",
       "      <td>NaN</td>\n",
       "      <td>NaN</td>\n",
       "      <td>NaN</td>\n",
       "      <td>4407147</td>\n",
       "      <td>Sedan</td>\n",
       "      <td>NaN</td>\n",
       "      <td>NaN</td>\n",
       "      <td>NaN</td>\n",
       "      <td>NaN</td>\n",
       "    </tr>\n",
       "    <tr>\n",
       "      <th>2</th>\n",
       "      <td>04/15/2021</td>\n",
       "      <td>16:15</td>\n",
       "      <td>NaN</td>\n",
       "      <td>NaN</td>\n",
       "      <td>NaN</td>\n",
       "      <td>NaN</td>\n",
       "      <td>NaN</td>\n",
       "      <td>HUTCHINSON RIVER PARKWAY</td>\n",
       "      <td>NaN</td>\n",
       "      <td>NaN</td>\n",
       "      <td>...</td>\n",
       "      <td>NaN</td>\n",
       "      <td>NaN</td>\n",
       "      <td>NaN</td>\n",
       "      <td>NaN</td>\n",
       "      <td>4407665</td>\n",
       "      <td>Station Wagon/Sport Utility Vehicle</td>\n",
       "      <td>NaN</td>\n",
       "      <td>NaN</td>\n",
       "      <td>NaN</td>\n",
       "      <td>NaN</td>\n",
       "    </tr>\n",
       "    <tr>\n",
       "      <th>3</th>\n",
       "      <td>04/13/2021</td>\n",
       "      <td>16:00</td>\n",
       "      <td>BROOKLYN</td>\n",
       "      <td>11222.0</td>\n",
       "      <td>NaN</td>\n",
       "      <td>NaN</td>\n",
       "      <td>NaN</td>\n",
       "      <td>VANDERVORT AVENUE</td>\n",
       "      <td>ANTHONY STREET</td>\n",
       "      <td>NaN</td>\n",
       "      <td>...</td>\n",
       "      <td>Unspecified</td>\n",
       "      <td>NaN</td>\n",
       "      <td>NaN</td>\n",
       "      <td>NaN</td>\n",
       "      <td>4407811</td>\n",
       "      <td>Sedan</td>\n",
       "      <td>NaN</td>\n",
       "      <td>NaN</td>\n",
       "      <td>NaN</td>\n",
       "      <td>NaN</td>\n",
       "    </tr>\n",
       "    <tr>\n",
       "      <th>4</th>\n",
       "      <td>04/12/2021</td>\n",
       "      <td>8:25</td>\n",
       "      <td>NaN</td>\n",
       "      <td>NaN</td>\n",
       "      <td>0.00000</td>\n",
       "      <td>0.00000</td>\n",
       "      <td>(0.0, 0.0)</td>\n",
       "      <td>EDSON AVENUE</td>\n",
       "      <td>NaN</td>\n",
       "      <td>NaN</td>\n",
       "      <td>...</td>\n",
       "      <td>Unspecified</td>\n",
       "      <td>NaN</td>\n",
       "      <td>NaN</td>\n",
       "      <td>NaN</td>\n",
       "      <td>4406885</td>\n",
       "      <td>Station Wagon/Sport Utility Vehicle</td>\n",
       "      <td>Sedan</td>\n",
       "      <td>NaN</td>\n",
       "      <td>NaN</td>\n",
       "      <td>NaN</td>\n",
       "    </tr>\n",
       "  </tbody>\n",
       "</table>\n",
       "<p>5 rows × 29 columns</p>\n",
       "</div>"
      ],
      "text/plain": [
       "   CRASH DATE CRASH TIME   BOROUGH ZIP CODE  LATITUDE  LONGITUDE  \\\n",
       "0  04/14/2021       5:32       NaN      NaN       NaN        NaN   \n",
       "1  04/13/2021      21:35  BROOKLYN  11217.0  40.68358  -73.97617   \n",
       "2  04/15/2021      16:15       NaN      NaN       NaN        NaN   \n",
       "3  04/13/2021      16:00  BROOKLYN  11222.0       NaN        NaN   \n",
       "4  04/12/2021       8:25       NaN      NaN   0.00000    0.00000   \n",
       "\n",
       "                LOCATION                    ON STREET NAME CROSS STREET NAME  \\\n",
       "0                    NaN           BRONX WHITESTONE BRIDGE               NaN   \n",
       "1  (40.68358, -73.97617)                               NaN               NaN   \n",
       "2                    NaN          HUTCHINSON RIVER PARKWAY               NaN   \n",
       "3                    NaN                 VANDERVORT AVENUE    ANTHONY STREET   \n",
       "4             (0.0, 0.0)  EDSON AVENUE                                   NaN   \n",
       "\n",
       "                            OFF STREET NAME  ...  \\\n",
       "0                                       NaN  ...   \n",
       "1  620       ATLANTIC AVENUE                 ...   \n",
       "2                                       NaN  ...   \n",
       "3                                       NaN  ...   \n",
       "4                                       NaN  ...   \n",
       "\n",
       "   CONTRIBUTING FACTOR VEHICLE 2  CONTRIBUTING FACTOR VEHICLE 3  \\\n",
       "0                    Unspecified                            NaN   \n",
       "1                            NaN                            NaN   \n",
       "2                            NaN                            NaN   \n",
       "3                    Unspecified                            NaN   \n",
       "4                    Unspecified                            NaN   \n",
       "\n",
       "   CONTRIBUTING FACTOR VEHICLE 4  CONTRIBUTING FACTOR VEHICLE 5  COLLISION_ID  \\\n",
       "0                            NaN                            NaN       4407480   \n",
       "1                            NaN                            NaN       4407147   \n",
       "2                            NaN                            NaN       4407665   \n",
       "3                            NaN                            NaN       4407811   \n",
       "4                            NaN                            NaN       4406885   \n",
       "\n",
       "                   VEHICLE TYPE CODE 1  VEHICLE TYPE CODE 2  \\\n",
       "0                                Sedan                Sedan   \n",
       "1                                Sedan                  NaN   \n",
       "2  Station Wagon/Sport Utility Vehicle                  NaN   \n",
       "3                                Sedan                  NaN   \n",
       "4  Station Wagon/Sport Utility Vehicle                Sedan   \n",
       "\n",
       "   VEHICLE TYPE CODE 3 VEHICLE TYPE CODE 4 VEHICLE TYPE CODE 5  \n",
       "0                  NaN                 NaN                 NaN  \n",
       "1                  NaN                 NaN                 NaN  \n",
       "2                  NaN                 NaN                 NaN  \n",
       "3                  NaN                 NaN                 NaN  \n",
       "4                  NaN                 NaN                 NaN  \n",
       "\n",
       "[5 rows x 29 columns]"
      ]
     },
     "execution_count": 7,
     "metadata": {},
     "output_type": "execute_result"
    }
   ],
   "source": [
    "#loading in the collision_crashes.csv with regular pandas\n",
    "\n",
    "%time df = pd.read_csv(file)\n",
    "df.head()"
   ]
  },
  {
   "cell_type": "markdown",
   "id": "1d13ef16",
   "metadata": {},
   "source": [
    "As you can see, the datatable read function is many times faster than regular pandas. This runtime becomes more and more important as the size of the data grows. \n",
    "\n",
    " - Datatable Run Time : 2 s\n",
    "\n",
    " - Pandas Run Time : 9.13 s\n",
    "\n",
    "If you would like to continue working with pandas, I will show a function that allows for you to reduce memory usage of your dataframe."
   ]
  },
  {
   "cell_type": "code",
   "execution_count": 8,
   "id": "1b4bd8ad",
   "metadata": {},
   "outputs": [
    {
     "name": "stdout",
     "output_type": "stream",
     "text": [
      "CPU times: user 5 s, sys: 684 ms, total: 5.68 s\n",
      "Wall time: 5.31 s\n"
     ]
    }
   ],
   "source": [
    "#let's work with the datatable library right now, convert our loaded data to a pandas dataframe\n",
    "\n",
    "%time datapandas = data.to_pandas()"
   ]
  },
  {
   "cell_type": "code",
   "execution_count": 9,
   "id": "c337ecef",
   "metadata": {},
   "outputs": [
    {
     "data": {
      "text/plain": [
       "Index(['CRASH DATE', 'CRASH TIME', 'BOROUGH', 'ZIP CODE', 'LATITUDE',\n",
       "       'LONGITUDE', 'LOCATION', 'ON STREET NAME', 'CROSS STREET NAME',\n",
       "       'OFF STREET NAME', 'NUMBER OF PERSONS INJURED',\n",
       "       'NUMBER OF PERSONS KILLED', 'NUMBER OF PEDESTRIANS INJURED',\n",
       "       'NUMBER OF PEDESTRIANS KILLED', 'NUMBER OF CYCLIST INJURED',\n",
       "       'NUMBER OF CYCLIST KILLED', 'NUMBER OF MOTORIST INJURED',\n",
       "       'NUMBER OF MOTORIST KILLED', 'CONTRIBUTING FACTOR VEHICLE 1',\n",
       "       'CONTRIBUTING FACTOR VEHICLE 2', 'CONTRIBUTING FACTOR VEHICLE 3',\n",
       "       'CONTRIBUTING FACTOR VEHICLE 4', 'CONTRIBUTING FACTOR VEHICLE 5',\n",
       "       'COLLISION_ID', 'VEHICLE TYPE CODE 1', 'VEHICLE TYPE CODE 2',\n",
       "       'VEHICLE TYPE CODE 3', 'VEHICLE TYPE CODE 4', 'VEHICLE TYPE CODE 5'],\n",
       "      dtype='object')"
      ]
     },
     "execution_count": 9,
     "metadata": {},
     "output_type": "execute_result"
    }
   ],
   "source": [
    "datapandas.columns"
   ]
  },
  {
   "cell_type": "code",
   "execution_count": 10,
   "id": "9e0eb210",
   "metadata": {},
   "outputs": [
    {
     "data": {
      "text/plain": [
       "pandas.core.frame.DataFrame"
      ]
     },
     "execution_count": 10,
     "metadata": {},
     "output_type": "execute_result"
    }
   ],
   "source": [
    "type(datapandas)"
   ]
  },
  {
   "cell_type": "code",
   "execution_count": 11,
   "id": "10b132fa",
   "metadata": {},
   "outputs": [],
   "source": [
    "#add underscores to spaces in column names\n",
    "\n",
    "datapandas.columns = datapandas.columns.str.replace(' ','_')"
   ]
  },
  {
   "cell_type": "code",
   "execution_count": 12,
   "id": "59fd3244",
   "metadata": {},
   "outputs": [
    {
     "name": "stdout",
     "output_type": "stream",
     "text": [
      "CPU times: user 6.79 ms, sys: 2.01 ms, total: 8.79 ms\n",
      "Wall time: 7.78 ms\n"
     ]
    },
    {
     "data": {
      "text/plain": [
       "8.0"
      ]
     },
     "execution_count": 12,
     "metadata": {},
     "output_type": "execute_result"
    }
   ],
   "source": [
    "#let's run some computations on the data\n",
    "\n",
    "#FIND THE MAX FOR NUMBER OF PEOPLE KILLED IN A SINGLE COLLISION CRASH\n",
    "\n",
    "%time datapandas.NUMBER_OF_PERSONS_KILLED.max()"
   ]
  },
  {
   "cell_type": "code",
   "execution_count": 13,
   "id": "1dbd027e",
   "metadata": {},
   "outputs": [
    {
     "name": "stdout",
     "output_type": "stream",
     "text": [
      "CPU times: user 63.5 ms, sys: 9.24 ms, total: 72.7 ms\n",
      "Wall time: 74.4 ms\n"
     ]
    },
    {
     "data": {
      "text/plain": [
       "ZIP_CODE\n",
       "10000.0      352\n",
       "10001.0    14851\n",
       "10002.0    13617\n",
       "10003.0     9242\n",
       "10004.0     2153\n",
       "           ...  \n",
       "11692.0     1704\n",
       "11693.0     1678\n",
       "11694.0     1883\n",
       "11695.0       14\n",
       "11697.0      165\n",
       "Name: NUMBER_OF_PERSONS_INJURED, Length: 231, dtype: int64"
      ]
     },
     "execution_count": 13,
     "metadata": {},
     "output_type": "execute_result"
    }
   ],
   "source": [
    "#FIND THE ZIP CODE THAT HAS THE CRASHES WITH HIGHEST NUMBER OF INJURIES\n",
    "\n",
    "%time datapandas.groupby(\"ZIP_CODE\").NUMBER_OF_PERSONS_INJURED.count()"
   ]
  },
  {
   "cell_type": "code",
   "execution_count": 14,
   "id": "5341228e",
   "metadata": {},
   "outputs": [
    {
     "data": {
      "text/plain": [
       "Index           0.000122\n",
       "CRASH DATE    117.928194\n",
       "CRASH TIME    108.675997\n",
       "BOROUGH        95.813611\n",
       "ZIP CODE       67.293591\n",
       "LATITUDE       14.080978\n",
       "LONGITUDE      14.080978\n",
       "dtype: float64"
      ]
     },
     "execution_count": 14,
     "metadata": {},
     "output_type": "execute_result"
    }
   ],
   "source": [
    "\n",
    "#If you want to use pandas from the beginning instead, find how much memory each column uses and see if you can reduce that\n",
    "\n",
    "#let's see which columns use up the most memory in the regular pandas dataframe we loaded in earlier\n",
    "\n",
    "memory_usage = df.memory_usage(deep=True) / 1024 ** 2\n",
    "\n",
    "memory_usage.head(7)"
   ]
  },
  {
   "cell_type": "code",
   "execution_count": 15,
   "id": "fc3f3a43",
   "metadata": {},
   "outputs": [
    {
     "data": {
      "text/plain": [
       "1839.0976467132568"
      ]
     },
     "execution_count": 15,
     "metadata": {},
     "output_type": "execute_result"
    }
   ],
   "source": [
    "memory_usage.sum()"
   ]
  },
  {
   "cell_type": "code",
   "execution_count": 16,
   "id": "ac748a8b",
   "metadata": {},
   "outputs": [],
   "source": [
    "#here's a function that can reduce the memory size of your dataframe by making the dtypes of a dataframe the smallest possible unit\n",
    "\n",
    "def reduce_memory_usage(df, verbose=True):\n",
    "    numerics = [\"int8\", \"int16\", \"int32\", \"int64\", \"float16\", \"float32\", \"float64\"]\n",
    "    start_mem = df.memory_usage().sum() / 1024 ** 2\n",
    "    for col in df.columns:\n",
    "        col_type = df[col].dtypes\n",
    "        if col_type in numerics:\n",
    "            c_min = df[col].min()\n",
    "            c_max = df[col].max()\n",
    "            if str(col_type)[:3] == \"int\":\n",
    "                if c_min > np.iinfo(np.int8).min and c_max < np.iinfo(np.int8).max:\n",
    "                    df[col] = df[col].astype(np.int8)\n",
    "                elif c_min > np.iinfo(np.int16).min and c_max < np.iinfo(np.int16).max:\n",
    "                    df[col] = df[col].astype(np.int16)\n",
    "                elif c_min > np.iinfo(np.int32).min and c_max < np.iinfo(np.int32).max:\n",
    "                    df[col] = df[col].astype(np.int32)\n",
    "                elif c_min > np.iinfo(np.int64).min and c_max < np.iinfo(np.int64).max:\n",
    "                    df[col] = df[col].astype(np.int64)\n",
    "            else:\n",
    "                if (\n",
    "                    c_min > np.finfo(np.float16).min\n",
    "                    and c_max < np.finfo(np.float16).max\n",
    "                ):\n",
    "                    df[col] = df[col].astype(np.float16)\n",
    "                elif (\n",
    "                    c_min > np.finfo(np.float32).min\n",
    "                    and c_max < np.finfo(np.float32).max\n",
    "                ):\n",
    "                    df[col] = df[col].astype(np.float32)\n",
    "                else:\n",
    "                    df[col] = df[col].astype(np.float64)\n",
    "    end_mem = df.memory_usage().sum() / 1024 ** 2\n",
    "    if verbose:\n",
    "        print(\n",
    "            \"Mem. usage decreased to {:.2f} Mb ({:.1f}% reduction)\".format(\n",
    "                end_mem, 100 * (start_mem - end_mem) / start_mem\n",
    "            )\n",
    "        )\n",
    "    return df"
   ]
  },
  {
   "cell_type": "code",
   "execution_count": 17,
   "id": "6b5ad067",
   "metadata": {},
   "outputs": [
    {
     "name": "stdout",
     "output_type": "stream",
     "text": [
      "Mem. usage decreased to 285.14 Mb (30.2% reduction)\n"
     ]
    }
   ],
   "source": [
    "#run the function\n",
    "\n",
    "reduced_df = reduce_memory_usage(df, verbose=True)"
   ]
  },
  {
   "cell_type": "markdown",
   "id": "3634c7da",
   "metadata": {},
   "source": [
    "### Using Dask Library"
   ]
  },
  {
   "cell_type": "code",
   "execution_count": 1,
   "id": "679907a0",
   "metadata": {},
   "outputs": [],
   "source": [
    "import dask.dataframe as dd"
   ]
  },
  {
   "cell_type": "code",
   "execution_count": 2,
   "id": "897eeffe",
   "metadata": {},
   "outputs": [
    {
     "name": "stdout",
     "output_type": "stream",
     "text": [
      "CPU times: user 28 ms, sys: 5.98 ms, total: 34 ms\n",
      "Wall time: 38.3 ms\n"
     ]
    }
   ],
   "source": [
    "file = '/Users/matthew_macwan/Downloads/CIS/Big_Data/Motor_Vehicle_Collisions_Crashes.csv'\n",
    "\n",
    "%time df = dd.read_csv(file,dtype={'NUMBER OF PERSONS INJURED': float,'NUMBER OF PERSONS KILLED': float,'ZIP CODE':object})"
   ]
  },
  {
   "cell_type": "code",
   "execution_count": 20,
   "id": "04965d0a",
   "metadata": {},
   "outputs": [
    {
     "name": "stdout",
     "output_type": "stream",
     "text": [
      "<class 'dask.dataframe.core.DataFrame'>\n",
      "Columns: 29 entries, CRASH DATE to VEHICLE TYPE CODE 5\n",
      "dtypes: object(18), float64(4), int64(7)"
     ]
    }
   ],
   "source": [
    "df.info()"
   ]
  },
  {
   "cell_type": "code",
   "execution_count": 21,
   "id": "205f2f98",
   "metadata": {},
   "outputs": [
    {
     "data": {
      "text/plain": [
       "Index(['CRASH DATE', 'CRASH TIME', 'BOROUGH', 'ZIP CODE', 'LATITUDE',\n",
       "       'LONGITUDE', 'LOCATION', 'ON STREET NAME', 'CROSS STREET NAME',\n",
       "       'OFF STREET NAME', 'NUMBER OF PERSONS INJURED',\n",
       "       'NUMBER OF PERSONS KILLED', 'NUMBER OF PEDESTRIANS INJURED',\n",
       "       'NUMBER OF PEDESTRIANS KILLED', 'NUMBER OF CYCLIST INJURED',\n",
       "       'NUMBER OF CYCLIST KILLED', 'NUMBER OF MOTORIST INJURED',\n",
       "       'NUMBER OF MOTORIST KILLED', 'CONTRIBUTING FACTOR VEHICLE 1',\n",
       "       'CONTRIBUTING FACTOR VEHICLE 2', 'CONTRIBUTING FACTOR VEHICLE 3',\n",
       "       'CONTRIBUTING FACTOR VEHICLE 4', 'CONTRIBUTING FACTOR VEHICLE 5',\n",
       "       'COLLISION_ID', 'VEHICLE TYPE CODE 1', 'VEHICLE TYPE CODE 2',\n",
       "       'VEHICLE TYPE CODE 3', 'VEHICLE TYPE CODE 4', 'VEHICLE TYPE CODE 5'],\n",
       "      dtype='object')"
      ]
     },
     "execution_count": 21,
     "metadata": {},
     "output_type": "execute_result"
    }
   ],
   "source": [
    "df.columns"
   ]
  },
  {
   "cell_type": "code",
   "execution_count": 22,
   "id": "cf8bcadc",
   "metadata": {},
   "outputs": [],
   "source": [
    "#add underscores to spaces in column names\n",
    "\n",
    "df.columns = df.columns.str.replace(' ','_')"
   ]
  },
  {
   "cell_type": "code",
   "execution_count": 23,
   "id": "d943903b",
   "metadata": {},
   "outputs": [
    {
     "data": {
      "text/plain": [
       "Index(['CRASH_DATE', 'CRASH_TIME', 'BOROUGH', 'ZIP_CODE', 'LATITUDE',\n",
       "       'LONGITUDE', 'LOCATION', 'ON_STREET_NAME', 'CROSS_STREET_NAME',\n",
       "       'OFF_STREET_NAME', 'NUMBER_OF_PERSONS_INJURED',\n",
       "       'NUMBER_OF_PERSONS_KILLED', 'NUMBER_OF_PEDESTRIANS_INJURED',\n",
       "       'NUMBER_OF_PEDESTRIANS_KILLED', 'NUMBER_OF_CYCLIST_INJURED',\n",
       "       'NUMBER_OF_CYCLIST_KILLED', 'NUMBER_OF_MOTORIST_INJURED',\n",
       "       'NUMBER_OF_MOTORIST_KILLED', 'CONTRIBUTING_FACTOR_VEHICLE_1',\n",
       "       'CONTRIBUTING_FACTOR_VEHICLE_2', 'CONTRIBUTING_FACTOR_VEHICLE_3',\n",
       "       'CONTRIBUTING_FACTOR_VEHICLE_4', 'CONTRIBUTING_FACTOR_VEHICLE_5',\n",
       "       'COLLISION_ID', 'VEHICLE_TYPE_CODE_1', 'VEHICLE_TYPE_CODE_2',\n",
       "       'VEHICLE_TYPE_CODE_3', 'VEHICLE_TYPE_CODE_4', 'VEHICLE_TYPE_CODE_5'],\n",
       "      dtype='object')"
      ]
     },
     "execution_count": 23,
     "metadata": {},
     "output_type": "execute_result"
    }
   ],
   "source": [
    "df.columns"
   ]
  },
  {
   "cell_type": "code",
   "execution_count": 24,
   "id": "3d956048",
   "metadata": {},
   "outputs": [
    {
     "data": {
      "text/html": [
       "<div><strong>Dask DataFrame Structure:</strong></div>\n",
       "<div>\n",
       "<style scoped>\n",
       "    .dataframe tbody tr th:only-of-type {\n",
       "        vertical-align: middle;\n",
       "    }\n",
       "\n",
       "    .dataframe tbody tr th {\n",
       "        vertical-align: top;\n",
       "    }\n",
       "\n",
       "    .dataframe thead th {\n",
       "        text-align: right;\n",
       "    }\n",
       "</style>\n",
       "<table border=\"1\" class=\"dataframe\">\n",
       "  <thead>\n",
       "    <tr style=\"text-align: right;\">\n",
       "      <th></th>\n",
       "      <th>CRASH_DATE</th>\n",
       "      <th>CRASH_TIME</th>\n",
       "      <th>BOROUGH</th>\n",
       "      <th>ZIP_CODE</th>\n",
       "      <th>LATITUDE</th>\n",
       "      <th>LONGITUDE</th>\n",
       "      <th>LOCATION</th>\n",
       "      <th>ON_STREET_NAME</th>\n",
       "      <th>CROSS_STREET_NAME</th>\n",
       "      <th>OFF_STREET_NAME</th>\n",
       "      <th>NUMBER_OF_PERSONS_INJURED</th>\n",
       "      <th>NUMBER_OF_PERSONS_KILLED</th>\n",
       "      <th>NUMBER_OF_PEDESTRIANS_INJURED</th>\n",
       "      <th>NUMBER_OF_PEDESTRIANS_KILLED</th>\n",
       "      <th>NUMBER_OF_CYCLIST_INJURED</th>\n",
       "      <th>NUMBER_OF_CYCLIST_KILLED</th>\n",
       "      <th>NUMBER_OF_MOTORIST_INJURED</th>\n",
       "      <th>NUMBER_OF_MOTORIST_KILLED</th>\n",
       "      <th>CONTRIBUTING_FACTOR_VEHICLE_1</th>\n",
       "      <th>CONTRIBUTING_FACTOR_VEHICLE_2</th>\n",
       "      <th>CONTRIBUTING_FACTOR_VEHICLE_3</th>\n",
       "      <th>CONTRIBUTING_FACTOR_VEHICLE_4</th>\n",
       "      <th>CONTRIBUTING_FACTOR_VEHICLE_5</th>\n",
       "      <th>COLLISION_ID</th>\n",
       "      <th>VEHICLE_TYPE_CODE_1</th>\n",
       "      <th>VEHICLE_TYPE_CODE_2</th>\n",
       "      <th>VEHICLE_TYPE_CODE_3</th>\n",
       "      <th>VEHICLE_TYPE_CODE_4</th>\n",
       "      <th>VEHICLE_TYPE_CODE_5</th>\n",
       "    </tr>\n",
       "    <tr>\n",
       "      <th>npartitions=7</th>\n",
       "      <th></th>\n",
       "      <th></th>\n",
       "      <th></th>\n",
       "      <th></th>\n",
       "      <th></th>\n",
       "      <th></th>\n",
       "      <th></th>\n",
       "      <th></th>\n",
       "      <th></th>\n",
       "      <th></th>\n",
       "      <th></th>\n",
       "      <th></th>\n",
       "      <th></th>\n",
       "      <th></th>\n",
       "      <th></th>\n",
       "      <th></th>\n",
       "      <th></th>\n",
       "      <th></th>\n",
       "      <th></th>\n",
       "      <th></th>\n",
       "      <th></th>\n",
       "      <th></th>\n",
       "      <th></th>\n",
       "      <th></th>\n",
       "      <th></th>\n",
       "      <th></th>\n",
       "      <th></th>\n",
       "      <th></th>\n",
       "      <th></th>\n",
       "    </tr>\n",
       "  </thead>\n",
       "  <tbody>\n",
       "    <tr>\n",
       "      <th></th>\n",
       "      <td>object</td>\n",
       "      <td>object</td>\n",
       "      <td>object</td>\n",
       "      <td>object</td>\n",
       "      <td>float64</td>\n",
       "      <td>float64</td>\n",
       "      <td>object</td>\n",
       "      <td>object</td>\n",
       "      <td>object</td>\n",
       "      <td>object</td>\n",
       "      <td>float64</td>\n",
       "      <td>float64</td>\n",
       "      <td>int64</td>\n",
       "      <td>int64</td>\n",
       "      <td>int64</td>\n",
       "      <td>int64</td>\n",
       "      <td>int64</td>\n",
       "      <td>int64</td>\n",
       "      <td>object</td>\n",
       "      <td>object</td>\n",
       "      <td>object</td>\n",
       "      <td>object</td>\n",
       "      <td>object</td>\n",
       "      <td>int64</td>\n",
       "      <td>object</td>\n",
       "      <td>object</td>\n",
       "      <td>object</td>\n",
       "      <td>object</td>\n",
       "      <td>object</td>\n",
       "    </tr>\n",
       "    <tr>\n",
       "      <th></th>\n",
       "      <td>...</td>\n",
       "      <td>...</td>\n",
       "      <td>...</td>\n",
       "      <td>...</td>\n",
       "      <td>...</td>\n",
       "      <td>...</td>\n",
       "      <td>...</td>\n",
       "      <td>...</td>\n",
       "      <td>...</td>\n",
       "      <td>...</td>\n",
       "      <td>...</td>\n",
       "      <td>...</td>\n",
       "      <td>...</td>\n",
       "      <td>...</td>\n",
       "      <td>...</td>\n",
       "      <td>...</td>\n",
       "      <td>...</td>\n",
       "      <td>...</td>\n",
       "      <td>...</td>\n",
       "      <td>...</td>\n",
       "      <td>...</td>\n",
       "      <td>...</td>\n",
       "      <td>...</td>\n",
       "      <td>...</td>\n",
       "      <td>...</td>\n",
       "      <td>...</td>\n",
       "      <td>...</td>\n",
       "      <td>...</td>\n",
       "      <td>...</td>\n",
       "    </tr>\n",
       "    <tr>\n",
       "      <th>...</th>\n",
       "      <td>...</td>\n",
       "      <td>...</td>\n",
       "      <td>...</td>\n",
       "      <td>...</td>\n",
       "      <td>...</td>\n",
       "      <td>...</td>\n",
       "      <td>...</td>\n",
       "      <td>...</td>\n",
       "      <td>...</td>\n",
       "      <td>...</td>\n",
       "      <td>...</td>\n",
       "      <td>...</td>\n",
       "      <td>...</td>\n",
       "      <td>...</td>\n",
       "      <td>...</td>\n",
       "      <td>...</td>\n",
       "      <td>...</td>\n",
       "      <td>...</td>\n",
       "      <td>...</td>\n",
       "      <td>...</td>\n",
       "      <td>...</td>\n",
       "      <td>...</td>\n",
       "      <td>...</td>\n",
       "      <td>...</td>\n",
       "      <td>...</td>\n",
       "      <td>...</td>\n",
       "      <td>...</td>\n",
       "      <td>...</td>\n",
       "      <td>...</td>\n",
       "    </tr>\n",
       "    <tr>\n",
       "      <th></th>\n",
       "      <td>...</td>\n",
       "      <td>...</td>\n",
       "      <td>...</td>\n",
       "      <td>...</td>\n",
       "      <td>...</td>\n",
       "      <td>...</td>\n",
       "      <td>...</td>\n",
       "      <td>...</td>\n",
       "      <td>...</td>\n",
       "      <td>...</td>\n",
       "      <td>...</td>\n",
       "      <td>...</td>\n",
       "      <td>...</td>\n",
       "      <td>...</td>\n",
       "      <td>...</td>\n",
       "      <td>...</td>\n",
       "      <td>...</td>\n",
       "      <td>...</td>\n",
       "      <td>...</td>\n",
       "      <td>...</td>\n",
       "      <td>...</td>\n",
       "      <td>...</td>\n",
       "      <td>...</td>\n",
       "      <td>...</td>\n",
       "      <td>...</td>\n",
       "      <td>...</td>\n",
       "      <td>...</td>\n",
       "      <td>...</td>\n",
       "      <td>...</td>\n",
       "    </tr>\n",
       "    <tr>\n",
       "      <th></th>\n",
       "      <td>...</td>\n",
       "      <td>...</td>\n",
       "      <td>...</td>\n",
       "      <td>...</td>\n",
       "      <td>...</td>\n",
       "      <td>...</td>\n",
       "      <td>...</td>\n",
       "      <td>...</td>\n",
       "      <td>...</td>\n",
       "      <td>...</td>\n",
       "      <td>...</td>\n",
       "      <td>...</td>\n",
       "      <td>...</td>\n",
       "      <td>...</td>\n",
       "      <td>...</td>\n",
       "      <td>...</td>\n",
       "      <td>...</td>\n",
       "      <td>...</td>\n",
       "      <td>...</td>\n",
       "      <td>...</td>\n",
       "      <td>...</td>\n",
       "      <td>...</td>\n",
       "      <td>...</td>\n",
       "      <td>...</td>\n",
       "      <td>...</td>\n",
       "      <td>...</td>\n",
       "      <td>...</td>\n",
       "      <td>...</td>\n",
       "      <td>...</td>\n",
       "    </tr>\n",
       "  </tbody>\n",
       "</table>\n",
       "</div>\n",
       "<div>Dask Name: rename, 14 tasks</div>"
      ],
      "text/plain": [
       "Dask DataFrame Structure:\n",
       "              CRASH_DATE CRASH_TIME BOROUGH ZIP_CODE LATITUDE LONGITUDE LOCATION ON_STREET_NAME CROSS_STREET_NAME OFF_STREET_NAME NUMBER_OF_PERSONS_INJURED NUMBER_OF_PERSONS_KILLED NUMBER_OF_PEDESTRIANS_INJURED NUMBER_OF_PEDESTRIANS_KILLED NUMBER_OF_CYCLIST_INJURED NUMBER_OF_CYCLIST_KILLED NUMBER_OF_MOTORIST_INJURED NUMBER_OF_MOTORIST_KILLED CONTRIBUTING_FACTOR_VEHICLE_1 CONTRIBUTING_FACTOR_VEHICLE_2 CONTRIBUTING_FACTOR_VEHICLE_3 CONTRIBUTING_FACTOR_VEHICLE_4 CONTRIBUTING_FACTOR_VEHICLE_5 COLLISION_ID VEHICLE_TYPE_CODE_1 VEHICLE_TYPE_CODE_2 VEHICLE_TYPE_CODE_3 VEHICLE_TYPE_CODE_4 VEHICLE_TYPE_CODE_5\n",
       "npartitions=7                                                                                                                                                                                                                                                                                                                                                                                                                                                                                                                                                                                                                 \n",
       "                  object     object  object   object  float64   float64   object         object            object          object                   float64                  float64                         int64                        int64                     int64                    int64                      int64                     int64                        object                        object                        object                        object                        object        int64              object              object              object              object              object\n",
       "                     ...        ...     ...      ...      ...       ...      ...            ...               ...             ...                       ...                      ...                           ...                          ...                       ...                      ...                        ...                       ...                           ...                           ...                           ...                           ...                           ...          ...                 ...                 ...                 ...                 ...                 ...\n",
       "...                  ...        ...     ...      ...      ...       ...      ...            ...               ...             ...                       ...                      ...                           ...                          ...                       ...                      ...                        ...                       ...                           ...                           ...                           ...                           ...                           ...          ...                 ...                 ...                 ...                 ...                 ...\n",
       "                     ...        ...     ...      ...      ...       ...      ...            ...               ...             ...                       ...                      ...                           ...                          ...                       ...                      ...                        ...                       ...                           ...                           ...                           ...                           ...                           ...          ...                 ...                 ...                 ...                 ...                 ...\n",
       "                     ...        ...     ...      ...      ...       ...      ...            ...               ...             ...                       ...                      ...                           ...                          ...                       ...                      ...                        ...                       ...                           ...                           ...                           ...                           ...                           ...          ...                 ...                 ...                 ...                 ...                 ...\n",
       "Dask Name: rename, 14 tasks"
      ]
     },
     "execution_count": 24,
     "metadata": {},
     "output_type": "execute_result"
    }
   ],
   "source": [
    "df"
   ]
  },
  {
   "cell_type": "code",
   "execution_count": 25,
   "id": "7d0ae9e2",
   "metadata": {},
   "outputs": [
    {
     "data": {
      "text/html": [
       "<div>\n",
       "<style scoped>\n",
       "    .dataframe tbody tr th:only-of-type {\n",
       "        vertical-align: middle;\n",
       "    }\n",
       "\n",
       "    .dataframe tbody tr th {\n",
       "        vertical-align: top;\n",
       "    }\n",
       "\n",
       "    .dataframe thead th {\n",
       "        text-align: right;\n",
       "    }\n",
       "</style>\n",
       "<table border=\"1\" class=\"dataframe\">\n",
       "  <thead>\n",
       "    <tr style=\"text-align: right;\">\n",
       "      <th></th>\n",
       "      <th>CRASH_DATE</th>\n",
       "      <th>CRASH_TIME</th>\n",
       "      <th>BOROUGH</th>\n",
       "      <th>ZIP_CODE</th>\n",
       "      <th>LATITUDE</th>\n",
       "      <th>LONGITUDE</th>\n",
       "      <th>LOCATION</th>\n",
       "      <th>ON_STREET_NAME</th>\n",
       "      <th>CROSS_STREET_NAME</th>\n",
       "      <th>OFF_STREET_NAME</th>\n",
       "      <th>...</th>\n",
       "      <th>CONTRIBUTING_FACTOR_VEHICLE_2</th>\n",
       "      <th>CONTRIBUTING_FACTOR_VEHICLE_3</th>\n",
       "      <th>CONTRIBUTING_FACTOR_VEHICLE_4</th>\n",
       "      <th>CONTRIBUTING_FACTOR_VEHICLE_5</th>\n",
       "      <th>COLLISION_ID</th>\n",
       "      <th>VEHICLE_TYPE_CODE_1</th>\n",
       "      <th>VEHICLE_TYPE_CODE_2</th>\n",
       "      <th>VEHICLE_TYPE_CODE_3</th>\n",
       "      <th>VEHICLE_TYPE_CODE_4</th>\n",
       "      <th>VEHICLE_TYPE_CODE_5</th>\n",
       "    </tr>\n",
       "  </thead>\n",
       "  <tbody>\n",
       "    <tr>\n",
       "      <th>0</th>\n",
       "      <td>04/14/2021</td>\n",
       "      <td>5:32</td>\n",
       "      <td>NaN</td>\n",
       "      <td>NaN</td>\n",
       "      <td>NaN</td>\n",
       "      <td>NaN</td>\n",
       "      <td>NaN</td>\n",
       "      <td>BRONX WHITESTONE BRIDGE</td>\n",
       "      <td>NaN</td>\n",
       "      <td>NaN</td>\n",
       "      <td>...</td>\n",
       "      <td>Unspecified</td>\n",
       "      <td>NaN</td>\n",
       "      <td>NaN</td>\n",
       "      <td>NaN</td>\n",
       "      <td>4407480</td>\n",
       "      <td>Sedan</td>\n",
       "      <td>Sedan</td>\n",
       "      <td>NaN</td>\n",
       "      <td>NaN</td>\n",
       "      <td>NaN</td>\n",
       "    </tr>\n",
       "    <tr>\n",
       "      <th>1</th>\n",
       "      <td>04/13/2021</td>\n",
       "      <td>21:35</td>\n",
       "      <td>BROOKLYN</td>\n",
       "      <td>11217</td>\n",
       "      <td>40.68358</td>\n",
       "      <td>-73.97617</td>\n",
       "      <td>(40.68358, -73.97617)</td>\n",
       "      <td>NaN</td>\n",
       "      <td>NaN</td>\n",
       "      <td>620       ATLANTIC AVENUE</td>\n",
       "      <td>...</td>\n",
       "      <td>NaN</td>\n",
       "      <td>NaN</td>\n",
       "      <td>NaN</td>\n",
       "      <td>NaN</td>\n",
       "      <td>4407147</td>\n",
       "      <td>Sedan</td>\n",
       "      <td>NaN</td>\n",
       "      <td>NaN</td>\n",
       "      <td>NaN</td>\n",
       "      <td>NaN</td>\n",
       "    </tr>\n",
       "    <tr>\n",
       "      <th>2</th>\n",
       "      <td>04/15/2021</td>\n",
       "      <td>16:15</td>\n",
       "      <td>NaN</td>\n",
       "      <td>NaN</td>\n",
       "      <td>NaN</td>\n",
       "      <td>NaN</td>\n",
       "      <td>NaN</td>\n",
       "      <td>HUTCHINSON RIVER PARKWAY</td>\n",
       "      <td>NaN</td>\n",
       "      <td>NaN</td>\n",
       "      <td>...</td>\n",
       "      <td>NaN</td>\n",
       "      <td>NaN</td>\n",
       "      <td>NaN</td>\n",
       "      <td>NaN</td>\n",
       "      <td>4407665</td>\n",
       "      <td>Station Wagon/Sport Utility Vehicle</td>\n",
       "      <td>NaN</td>\n",
       "      <td>NaN</td>\n",
       "      <td>NaN</td>\n",
       "      <td>NaN</td>\n",
       "    </tr>\n",
       "    <tr>\n",
       "      <th>3</th>\n",
       "      <td>04/13/2021</td>\n",
       "      <td>16:00</td>\n",
       "      <td>BROOKLYN</td>\n",
       "      <td>11222</td>\n",
       "      <td>NaN</td>\n",
       "      <td>NaN</td>\n",
       "      <td>NaN</td>\n",
       "      <td>VANDERVORT AVENUE</td>\n",
       "      <td>ANTHONY STREET</td>\n",
       "      <td>NaN</td>\n",
       "      <td>...</td>\n",
       "      <td>Unspecified</td>\n",
       "      <td>NaN</td>\n",
       "      <td>NaN</td>\n",
       "      <td>NaN</td>\n",
       "      <td>4407811</td>\n",
       "      <td>Sedan</td>\n",
       "      <td>NaN</td>\n",
       "      <td>NaN</td>\n",
       "      <td>NaN</td>\n",
       "      <td>NaN</td>\n",
       "    </tr>\n",
       "    <tr>\n",
       "      <th>4</th>\n",
       "      <td>04/12/2021</td>\n",
       "      <td>8:25</td>\n",
       "      <td>NaN</td>\n",
       "      <td>NaN</td>\n",
       "      <td>0.00000</td>\n",
       "      <td>0.00000</td>\n",
       "      <td>(0.0, 0.0)</td>\n",
       "      <td>EDSON AVENUE</td>\n",
       "      <td>NaN</td>\n",
       "      <td>NaN</td>\n",
       "      <td>...</td>\n",
       "      <td>Unspecified</td>\n",
       "      <td>NaN</td>\n",
       "      <td>NaN</td>\n",
       "      <td>NaN</td>\n",
       "      <td>4406885</td>\n",
       "      <td>Station Wagon/Sport Utility Vehicle</td>\n",
       "      <td>Sedan</td>\n",
       "      <td>NaN</td>\n",
       "      <td>NaN</td>\n",
       "      <td>NaN</td>\n",
       "    </tr>\n",
       "  </tbody>\n",
       "</table>\n",
       "<p>5 rows × 29 columns</p>\n",
       "</div>"
      ],
      "text/plain": [
       "   CRASH_DATE CRASH_TIME   BOROUGH ZIP_CODE  LATITUDE  LONGITUDE  \\\n",
       "0  04/14/2021       5:32       NaN      NaN       NaN        NaN   \n",
       "1  04/13/2021      21:35  BROOKLYN    11217  40.68358  -73.97617   \n",
       "2  04/15/2021      16:15       NaN      NaN       NaN        NaN   \n",
       "3  04/13/2021      16:00  BROOKLYN    11222       NaN        NaN   \n",
       "4  04/12/2021       8:25       NaN      NaN   0.00000    0.00000   \n",
       "\n",
       "                LOCATION                    ON_STREET_NAME CROSS_STREET_NAME  \\\n",
       "0                    NaN           BRONX WHITESTONE BRIDGE               NaN   \n",
       "1  (40.68358, -73.97617)                               NaN               NaN   \n",
       "2                    NaN          HUTCHINSON RIVER PARKWAY               NaN   \n",
       "3                    NaN                 VANDERVORT AVENUE    ANTHONY STREET   \n",
       "4             (0.0, 0.0)  EDSON AVENUE                                   NaN   \n",
       "\n",
       "                            OFF_STREET_NAME  ...  \\\n",
       "0                                       NaN  ...   \n",
       "1  620       ATLANTIC AVENUE                 ...   \n",
       "2                                       NaN  ...   \n",
       "3                                       NaN  ...   \n",
       "4                                       NaN  ...   \n",
       "\n",
       "   CONTRIBUTING_FACTOR_VEHICLE_2  CONTRIBUTING_FACTOR_VEHICLE_3  \\\n",
       "0                    Unspecified                            NaN   \n",
       "1                            NaN                            NaN   \n",
       "2                            NaN                            NaN   \n",
       "3                    Unspecified                            NaN   \n",
       "4                    Unspecified                            NaN   \n",
       "\n",
       "   CONTRIBUTING_FACTOR_VEHICLE_4  CONTRIBUTING_FACTOR_VEHICLE_5  COLLISION_ID  \\\n",
       "0                            NaN                            NaN       4407480   \n",
       "1                            NaN                            NaN       4407147   \n",
       "2                            NaN                            NaN       4407665   \n",
       "3                            NaN                            NaN       4407811   \n",
       "4                            NaN                            NaN       4406885   \n",
       "\n",
       "                   VEHICLE_TYPE_CODE_1  VEHICLE_TYPE_CODE_2  \\\n",
       "0                                Sedan                Sedan   \n",
       "1                                Sedan                  NaN   \n",
       "2  Station Wagon/Sport Utility Vehicle                  NaN   \n",
       "3                                Sedan                  NaN   \n",
       "4  Station Wagon/Sport Utility Vehicle                Sedan   \n",
       "\n",
       "   VEHICLE_TYPE_CODE_3 VEHICLE_TYPE_CODE_4 VEHICLE_TYPE_CODE_5  \n",
       "0                  NaN                 NaN                 NaN  \n",
       "1                  NaN                 NaN                 NaN  \n",
       "2                  NaN                 NaN                 NaN  \n",
       "3                  NaN                 NaN                 NaN  \n",
       "4                  NaN                 NaN                 NaN  \n",
       "\n",
       "[5 rows x 29 columns]"
      ]
     },
     "execution_count": 25,
     "metadata": {},
     "output_type": "execute_result"
    }
   ],
   "source": [
    "df.head()"
   ]
  },
  {
   "cell_type": "code",
   "execution_count": 26,
   "id": "3d3c6c03",
   "metadata": {},
   "outputs": [
    {
     "name": "stdout",
     "output_type": "stream",
     "text": [
      "CPU times: user 11 s, sys: 2.04 s, total: 13.1 s\n",
      "Wall time: 9.72 s\n"
     ]
    },
    {
     "data": {
      "text/plain": [
       "8.0"
      ]
     },
     "execution_count": 26,
     "metadata": {},
     "output_type": "execute_result"
    }
   ],
   "source": [
    "#let's run some computations\n",
    "\n",
    "%time df.NUMBER_OF_PERSONS_KILLED.max().compute()"
   ]
  },
  {
   "cell_type": "code",
   "execution_count": 27,
   "id": "2b1d0cf0",
   "metadata": {},
   "outputs": [
    {
     "data": {
      "text/plain": [
       "BOROUGH\n",
       "STATEN ISLAND     53705\n",
       "BRONX            185261\n",
       "MANHATTAN        293147\n",
       "QUEENS           341651\n",
       "BROOKLYN         401550\n",
       "Name: COLLISION_ID, dtype: int64"
      ]
     },
     "execution_count": 27,
     "metadata": {},
     "output_type": "execute_result"
    }
   ],
   "source": [
    "df.groupby(\"BOROUGH\").COLLISION_ID.count().compute().sort_values()"
   ]
  },
  {
   "cell_type": "code",
   "execution_count": 28,
   "id": "4122ec20",
   "metadata": {},
   "outputs": [
    {
     "data": {
      "image/png": "[encoded data removed]",
      "text/plain": [
       "<Figure size 576x576 with 1 Axes>"
      ]
     },
     "metadata": {
      "needs_background": "light"
     },
     "output_type": "display_data"
    }
   ],
   "source": [
    "#Graph the data \n",
    "\n",
    "graph = df.groupby(\"BOROUGH\").COLLISION_ID.count()\n",
    "\n",
    "#Plot \n",
    "\n",
    "graph.nlargest(5).compute().\\\n",
    "plot(kind='barh', stacked=False, figsize=[8,8], colormap='cividis')\n",
    " \n",
    "plt.title('Number of Collisions by Borough')\n",
    "plt.ylabel('Borough')\n",
    "plt.xlabel('Number of Collisions')\n",
    "plt.show()"
   ]
  },
  {
   "cell_type": "code",
   "execution_count": 29,
   "id": "39162f65",
   "metadata": {},
   "outputs": [
    {
     "name": "stdout",
     "output_type": "stream",
     "text": [
      "CPU times: user 10.2 s, sys: 1.6 s, total: 11.8 s\n",
      "Wall time: 7.24 s\n"
     ]
    },
    {
     "data": {
      "text/plain": [
       "ZIP_CODE\n",
       "10166        1\n",
       "10055        1\n",
       "10176        1\n",
       "11241        1\n",
       "10179        2\n",
       "         ...  \n",
       "10019    16040\n",
       "11203    16161\n",
       "11236    16687\n",
       "11101    17303\n",
       "11207    23966\n",
       "Name: NUMBER_OF_PERSONS_INJURED, Length: 232, dtype: int64"
      ]
     },
     "execution_count": 29,
     "metadata": {},
     "output_type": "execute_result"
    }
   ],
   "source": [
    "%time df.groupby(\"ZIP_CODE\").NUMBER_OF_PERSONS_INJURED.count().compute().sort_values()"
   ]
  },
  {
   "cell_type": "code",
   "execution_count": 30,
   "id": "059c68e3",
   "metadata": {},
   "outputs": [
    {
     "data": {
      "image/png": "[encoded data removed]",
      "text/plain": [
       "<Figure size 576x576 with 1 Axes>"
      ]
     },
     "metadata": {
      "needs_background": "light"
     },
     "output_type": "display_data"
    }
   ],
   "source": [
    "#Graph the data\n",
    "\n",
    "graph_1 = df.groupby(\"ZIP_CODE\").NUMBER_OF_PERSONS_INJURED.count()\n",
    "\n",
    "#Plot\n",
    "\n",
    "graph_1.nlargest(10).compute().\\\n",
    "plot(kind='barh', stacked=False, figsize=[8,8], colormap='cool')\n",
    " \n",
    "plt.title('Zip Codes with the Most Injuries')\n",
    "plt.ylabel('Zip Code')\n",
    "plt.xlabel('Number of People Injured')\n",
    "plt.show()"
   ]
  },
  {
   "cell_type": "code",
   "execution_count": 31,
   "id": "19397696",
   "metadata": {},
   "outputs": [
    {
     "data": {
      "text/plain": [
       "BOROUGH\n",
       "BRONX            0.301053\n",
       "BROOKLYN         0.306094\n",
       "MANHATTAN        0.188344\n",
       "QUEENS           0.276747\n",
       "STATEN ISLAND    0.263625\n",
       "Name: NUMBER_OF_PERSONS_INJURED, dtype: float64"
      ]
     },
     "execution_count": 31,
     "metadata": {},
     "output_type": "execute_result"
    }
   ],
   "source": [
    "df.groupby(\"BOROUGH\").NUMBER_OF_PERSONS_INJURED.mean().compute()"
   ]
  },
  {
   "cell_type": "code",
   "execution_count": 32,
   "id": "6bdda689",
   "metadata": {},
   "outputs": [
    {
     "data": {
      "image/png": "[encoded data removed]",
      "text/plain": [
       "<Figure size 576x576 with 1 Axes>"
      ]
     },
     "metadata": {
      "needs_background": "light"
     },
     "output_type": "display_data"
    }
   ],
   "source": [
    "#Graph the data\n",
    "\n",
    "graph_2 = df.groupby(\"BOROUGH\").NUMBER_OF_PERSONS_INJURED.mean()\n",
    "\n",
    "graph_2.nlargest(5).compute().\\\n",
    "plot(kind='barh', stacked=False, figsize=[8,8], colormap='Pastel1')\n",
    "\n",
    "#Plot\n",
    " \n",
    "plt.title('Average Number of Injuries by Borough')\n",
    "plt.ylabel('Borough')\n",
    "plt.xlabel('Number of Collisions')\n",
    "plt.show()"
   ]
  },
  {
   "cell_type": "markdown",
   "id": "b01d96d7",
   "metadata": {},
   "source": [
    "You can see the difference in the computation runtimes between the Datatable library and the Dask library.\n",
    "\n",
    "MAX NUMBER OF PEOPLE KILLED COMPUTATION \n",
    "\n",
    "   - Datatable Run Time: 8.9 ms\n",
    "   - Dask Run Time: 9 s\n",
    "   \n",
    "ZIP CODE WITH THE MOST INJURIES COMPUTATION \n",
    "\n",
    "   - Datatable Run Time: 72.7 ms\n",
    "   - Dask Run Time: 11.8 s\n",
    "   \n",
    "It comes down to a preference choice of which library to use when the dataset is only a couple million rows. Let's see if that changes when the runtime differences with a 15 GB, 27M row dataset."
   ]
  },
  {
   "cell_type": "code",
   "execution_count": 36,
   "id": "52d5f1d5",
   "metadata": {},
   "outputs": [
    {
     "name": "stdout",
     "output_type": "stream",
     "text": [
      "CPU times: user 2min 41s, sys: 1min 18s, total: 3min 59s\n",
      "Wall time: 3min 48s\n"
     ]
    }
   ],
   "source": [
    "### Loading in the Service Requests File with Datatable \n",
    "\n",
    "path = '/Users/matthew_macwan/Downloads/CIS/Big_Data/ServiceRequests_311.csv'\n",
    "\n",
    "%time sr_df = dt.fread(path)"
   ]
  },
  {
   "cell_type": "code",
   "execution_count": 4,
   "id": "f690b05f",
   "metadata": {},
   "outputs": [],
   "source": [
    "### Datatable to a Pandas Dataframe \n",
    "\n",
    "# %time sr_df = sr_df.to_pandas()\n",
    "\n",
    "\n",
    "#KERNEL DIED - meaning it ran out of RAM "
   ]
  },
  {
   "cell_type": "code",
   "execution_count": 5,
   "id": "e93ad086",
   "metadata": {},
   "outputs": [],
   "source": [
    "\n",
    "dtypes = {'Incident Zip': str,'Unique Key':str,'Agency': str,'Agency Name':str,'Complaint Type': str, 'Descriptor':str,\n",
    "          'Location Type': str,'Latitude':float,'Longitude': float, 'Incident Address':str, 'Open Data Channel Type':str,\n",
    "          'Open Data Channel Type':str, 'Park Facility Name': str, 'Park Borough': str,'Vehicle Type': str, 'Taxi Company Borough': str,\n",
    "         'Road Ramp':str, 'Bridge Highway Direction': str, 'Bridge Highway Name': str,'Taxi Pick Up Location': str,\n",
    "          'Bridge Highway Segment': str, 'Facility Type':str,'Landmark':str,'Resolution Description':str, 'Due Date':str}"
   ]
  },
  {
   "cell_type": "code",
   "execution_count": 6,
   "id": "2937528a",
   "metadata": {},
   "outputs": [
    {
     "name": "stdout",
     "output_type": "stream",
     "text": [
      "CPU times: user 49.2 ms, sys: 6.79 ms, total: 56 ms\n",
      "Wall time: 60.5 ms\n"
     ]
    }
   ],
   "source": [
    "### Loading in the Service Requests File with Dask \n",
    "\n",
    "path = '/Users/matthew_macwan/Downloads/CIS/Big_Data/ServiceRequests_311.csv'\n",
    "\n",
    "%time sr_df = dd.read_csv(path,dtype=dtypes)"
   ]
  },
  {
   "cell_type": "markdown",
   "id": "0ebff048",
   "metadata": {},
   "source": [
    "- We can see that as the dataset grows larger and larger, dask is still able load the data in at very fast speeds while the the datatable library gives a memory error. \n",
    " "
   ]
  },
  {
   "cell_type": "code",
   "execution_count": 6,
   "id": "482c32c1",
   "metadata": {},
   "outputs": [
    {
     "data": {
      "text/html": [
       "<div>\n",
       "<style scoped>\n",
       "    .dataframe tbody tr th:only-of-type {\n",
       "        vertical-align: middle;\n",
       "    }\n",
       "\n",
       "    .dataframe tbody tr th {\n",
       "        vertical-align: top;\n",
       "    }\n",
       "\n",
       "    .dataframe thead th {\n",
       "        text-align: right;\n",
       "    }\n",
       "</style>\n",
       "<table border=\"1\" class=\"dataframe\">\n",
       "  <thead>\n",
       "    <tr style=\"text-align: right;\">\n",
       "      <th></th>\n",
       "      <th>Unique Key</th>\n",
       "      <th>Created Date</th>\n",
       "      <th>Closed Date</th>\n",
       "      <th>Agency</th>\n",
       "      <th>Agency Name</th>\n",
       "      <th>Complaint Type</th>\n",
       "      <th>Descriptor</th>\n",
       "      <th>Location Type</th>\n",
       "      <th>Incident Zip</th>\n",
       "      <th>Incident Address</th>\n",
       "      <th>...</th>\n",
       "      <th>Vehicle Type</th>\n",
       "      <th>Taxi Company Borough</th>\n",
       "      <th>Taxi Pick Up Location</th>\n",
       "      <th>Bridge Highway Name</th>\n",
       "      <th>Bridge Highway Direction</th>\n",
       "      <th>Road Ramp</th>\n",
       "      <th>Bridge Highway Segment</th>\n",
       "      <th>Latitude</th>\n",
       "      <th>Longitude</th>\n",
       "      <th>Location</th>\n",
       "    </tr>\n",
       "  </thead>\n",
       "  <tbody>\n",
       "    <tr>\n",
       "      <th>0</th>\n",
       "      <td>15648000</td>\n",
       "      <td>01/04/2010 06:36:30 AM</td>\n",
       "      <td>01/12/2010 09:20:06 AM</td>\n",
       "      <td>DOT</td>\n",
       "      <td>Department of Transportation</td>\n",
       "      <td>Street Condition</td>\n",
       "      <td>Failed Street Repair</td>\n",
       "      <td>Street</td>\n",
       "      <td>10016</td>\n",
       "      <td>166 EAST 35 STREET</td>\n",
       "      <td>...</td>\n",
       "      <td>NaN</td>\n",
       "      <td>NaN</td>\n",
       "      <td>NaN</td>\n",
       "      <td>NaN</td>\n",
       "      <td>NaN</td>\n",
       "      <td>NaN</td>\n",
       "      <td>NaN</td>\n",
       "      <td>40.746721</td>\n",
       "      <td>-73.978440</td>\n",
       "      <td>(40.74672110332963, -73.9784399460149)</td>\n",
       "    </tr>\n",
       "    <tr>\n",
       "      <th>1</th>\n",
       "      <td>15648003</td>\n",
       "      <td>01/04/2010 11:18:54 AM</td>\n",
       "      <td>01/26/2010 05:51:42 PM</td>\n",
       "      <td>DOT</td>\n",
       "      <td>Department of Transportation</td>\n",
       "      <td>Sidewalk Condition</td>\n",
       "      <td>Broken Sidewalk</td>\n",
       "      <td>Sidewalk</td>\n",
       "      <td>11210</td>\n",
       "      <td>NaN</td>\n",
       "      <td>...</td>\n",
       "      <td>NaN</td>\n",
       "      <td>NaN</td>\n",
       "      <td>NaN</td>\n",
       "      <td>NaN</td>\n",
       "      <td>NaN</td>\n",
       "      <td>NaN</td>\n",
       "      <td>NaN</td>\n",
       "      <td>40.621887</td>\n",
       "      <td>-73.946968</td>\n",
       "      <td>(40.621886929021045, -73.94696794642002)</td>\n",
       "    </tr>\n",
       "    <tr>\n",
       "      <th>2</th>\n",
       "      <td>15648004</td>\n",
       "      <td>01/04/2010 03:18:20 PM</td>\n",
       "      <td>01/05/2010 09:30:22 AM</td>\n",
       "      <td>DOT</td>\n",
       "      <td>Department of Transportation</td>\n",
       "      <td>Street Condition</td>\n",
       "      <td>Rough, Pitted or Cracked Roads</td>\n",
       "      <td>Street</td>\n",
       "      <td>10003</td>\n",
       "      <td>746 BROADWAY</td>\n",
       "      <td>...</td>\n",
       "      <td>NaN</td>\n",
       "      <td>NaN</td>\n",
       "      <td>NaN</td>\n",
       "      <td>NaN</td>\n",
       "      <td>NaN</td>\n",
       "      <td>NaN</td>\n",
       "      <td>NaN</td>\n",
       "      <td>40.730150</td>\n",
       "      <td>-73.992766</td>\n",
       "      <td>(40.73015008038426, -73.99276579207472)</td>\n",
       "    </tr>\n",
       "    <tr>\n",
       "      <th>3</th>\n",
       "      <td>15648009</td>\n",
       "      <td>01/05/2010 12:49:24 AM</td>\n",
       "      <td>01/06/2010 12:59:49 PM</td>\n",
       "      <td>TLC</td>\n",
       "      <td>Taxi and Limousine Commission</td>\n",
       "      <td>Taxi Complaint</td>\n",
       "      <td>Driver Complaint</td>\n",
       "      <td>Street</td>\n",
       "      <td>10003</td>\n",
       "      <td>100 3 AVENUE</td>\n",
       "      <td>...</td>\n",
       "      <td>NaN</td>\n",
       "      <td>NaN</td>\n",
       "      <td>NaN</td>\n",
       "      <td>NaN</td>\n",
       "      <td>NaN</td>\n",
       "      <td>NaN</td>\n",
       "      <td>NaN</td>\n",
       "      <td>40.732400</td>\n",
       "      <td>-73.987844</td>\n",
       "      <td>(40.73240036503256, -73.9878439553108)</td>\n",
       "    </tr>\n",
       "    <tr>\n",
       "      <th>4</th>\n",
       "      <td>15648010</td>\n",
       "      <td>01/05/2010 01:31:35 AM</td>\n",
       "      <td>01/06/2010 12:59:48 PM</td>\n",
       "      <td>TLC</td>\n",
       "      <td>Taxi and Limousine Commission</td>\n",
       "      <td>For Hire Vehicle Complaint</td>\n",
       "      <td>Car Service Company Complaint</td>\n",
       "      <td>Street</td>\n",
       "      <td>11219</td>\n",
       "      <td>5802 13 AVENUE</td>\n",
       "      <td>...</td>\n",
       "      <td>NaN</td>\n",
       "      <td>BROOKLYN</td>\n",
       "      <td>NaN</td>\n",
       "      <td>NaN</td>\n",
       "      <td>NaN</td>\n",
       "      <td>NaN</td>\n",
       "      <td>NaN</td>\n",
       "      <td>40.629897</td>\n",
       "      <td>-73.997464</td>\n",
       "      <td>(40.629897451400446, -73.99746372472059)</td>\n",
       "    </tr>\n",
       "  </tbody>\n",
       "</table>\n",
       "<p>5 rows × 41 columns</p>\n",
       "</div>"
      ],
      "text/plain": [
       "  Unique Key            Created Date             Closed Date Agency  \\\n",
       "0   15648000  01/04/2010 06:36:30 AM  01/12/2010 09:20:06 AM    DOT   \n",
       "1   15648003  01/04/2010 11:18:54 AM  01/26/2010 05:51:42 PM    DOT   \n",
       "2   15648004  01/04/2010 03:18:20 PM  01/05/2010 09:30:22 AM    DOT   \n",
       "3   15648009  01/05/2010 12:49:24 AM  01/06/2010 12:59:49 PM    TLC   \n",
       "4   15648010  01/05/2010 01:31:35 AM  01/06/2010 12:59:48 PM    TLC   \n",
       "\n",
       "                     Agency Name              Complaint Type  \\\n",
       "0   Department of Transportation            Street Condition   \n",
       "1   Department of Transportation          Sidewalk Condition   \n",
       "2   Department of Transportation            Street Condition   \n",
       "3  Taxi and Limousine Commission              Taxi Complaint   \n",
       "4  Taxi and Limousine Commission  For Hire Vehicle Complaint   \n",
       "\n",
       "                       Descriptor Location Type Incident Zip  \\\n",
       "0            Failed Street Repair        Street        10016   \n",
       "1                 Broken Sidewalk      Sidewalk        11210   \n",
       "2  Rough, Pitted or Cracked Roads        Street        10003   \n",
       "3                Driver Complaint        Street        10003   \n",
       "4   Car Service Company Complaint        Street        11219   \n",
       "\n",
       "     Incident Address  ... Vehicle Type Taxi Company Borough  \\\n",
       "0  166 EAST 35 STREET  ...          NaN                  NaN   \n",
       "1                 NaN  ...          NaN                  NaN   \n",
       "2        746 BROADWAY  ...          NaN                  NaN   \n",
       "3        100 3 AVENUE  ...          NaN                  NaN   \n",
       "4      5802 13 AVENUE  ...          NaN             BROOKLYN   \n",
       "\n",
       "  Taxi Pick Up Location Bridge Highway Name Bridge Highway Direction  \\\n",
       "0                   NaN                 NaN                      NaN   \n",
       "1                   NaN                 NaN                      NaN   \n",
       "2                   NaN                 NaN                      NaN   \n",
       "3                   NaN                 NaN                      NaN   \n",
       "4                   NaN                 NaN                      NaN   \n",
       "\n",
       "  Road Ramp Bridge Highway Segment   Latitude  Longitude  \\\n",
       "0       NaN                    NaN  40.746721 -73.978440   \n",
       "1       NaN                    NaN  40.621887 -73.946968   \n",
       "2       NaN                    NaN  40.730150 -73.992766   \n",
       "3       NaN                    NaN  40.732400 -73.987844   \n",
       "4       NaN                    NaN  40.629897 -73.997464   \n",
       "\n",
       "                                   Location  \n",
       "0    (40.74672110332963, -73.9784399460149)  \n",
       "1  (40.621886929021045, -73.94696794642002)  \n",
       "2   (40.73015008038426, -73.99276579207472)  \n",
       "3    (40.73240036503256, -73.9878439553108)  \n",
       "4  (40.629897451400446, -73.99746372472059)  \n",
       "\n",
       "[5 rows x 41 columns]"
      ]
     },
     "execution_count": 6,
     "metadata": {},
     "output_type": "execute_result"
    }
   ],
   "source": [
    "sr_df.head()"
   ]
  },
  {
   "cell_type": "code",
   "execution_count": 7,
   "id": "80accfff",
   "metadata": {},
   "outputs": [],
   "source": [
    "#add underscores to spaces in column names\n",
    "\n",
    "sr_df.columns = sr_df.columns.str.replace(' ','_')"
   ]
  },
  {
   "cell_type": "code",
   "execution_count": 14,
   "id": "8daf9d56",
   "metadata": {},
   "outputs": [
    {
     "name": "stderr",
     "output_type": "stream",
     "text": [
      "/Users/matthew_macwan/opt/anaconda3/lib/python3.8/site-packages/dask/core.py:121: DtypeWarning: Columns (11,12,13,14,15,16,40) have mixed types.Specify dtype option on import or set low_memory=False.\n",
      "  return func(*(_execute_task(a, cache) for a in args))\n"
     ]
    },
    {
     "name": "stdout",
     "output_type": "stream",
     "text": [
      "CPU times: user 6min 31s, sys: 1min 3s, total: 7min 34s\n",
      "Wall time: 5min 26s\n"
     ]
    },
    {
     "data": {
      "text/plain": [
       "Complaint_Type\n",
       "Meals Home Delivery Required            1\n",
       "Misc. Comments'(select*from...          1\n",
       "Misc. Comments'&quot;`0&amp...          1\n",
       "Misc. Comments' waitfor del...          1\n",
       "Misc. Comments' and 7702=77...          1\n",
       "                                   ...   \n",
       "Street Condition                  1084050\n",
       "Blocked Driveway                  1175906\n",
       "Illegal Parking                   1398544\n",
       "HEAT/HOT WATER                    1563436\n",
       "Noise - Residential               2556518\n",
       "Name: Unique_Key, Length: 474, dtype: int64"
      ]
     },
     "execution_count": 14,
     "metadata": {},
     "output_type": "execute_result"
    }
   ],
   "source": [
    "#let's run some computations\n",
    "\n",
    "#FIND WHAT THE MAIN COMPLAINTS ARE CITYWIDE\n",
    "\n",
    "%time sr_df.groupby(\"Complaint_Type\").Unique_Key.count().compute().sort_values()"
   ]
  },
  {
   "cell_type": "code",
   "execution_count": 15,
   "id": "86d997d3",
   "metadata": {},
   "outputs": [
    {
     "name": "stderr",
     "output_type": "stream",
     "text": [
      "/Users/matthew_macwan/opt/anaconda3/lib/python3.8/site-packages/dask/core.py:121: DtypeWarning: Columns (11,12,13,14,15,16,40) have mixed types.Specify dtype option on import or set low_memory=False.\n",
      "  return func(*(_execute_task(a, cache) for a in args))\n"
     ]
    },
    {
     "data": {
      "image/png": "[encoded data removed]",
      "text/plain": [
       "<Figure size 576x576 with 1 Axes>"
      ]
     },
     "metadata": {
      "needs_background": "light"
     },
     "output_type": "display_data"
    }
   ],
   "source": [
    "#Graph the data\n",
    "\n",
    "graph_1 = sr_df.groupby(\"Complaint_Type\").Unique_Key.count()\n",
    "\n",
    "#Plot\n",
    "\n",
    "graph_1.nlargest(10).compute().\\\n",
    "plot(kind='bar', stacked=False, figsize=[8,8], colormap='Pastel2')\n",
    " \n",
    "plt.title('Most Common Complaints')\n",
    "plt.ylabel('Complaint Type')\n",
    "plt.xlabel('Number of Complaints')\n",
    "plt.show()"
   ]
  },
  {
   "cell_type": "code",
   "execution_count": 16,
   "id": "67c30ef3",
   "metadata": {},
   "outputs": [],
   "source": [
    "### USING an API to get data \n",
    "\n",
    "#Sometimes, we only need a part of the dataset and we don't want to download an entire huge dataset and then have to load it into memory.\n",
    "#An API can be very useful and both of these datasets have their API information listed on the links above.\n",
    "\n",
    "import requests\n",
    "\n",
    "#grabbing only 5 columns and limiting it to the first 15000 rows\n",
    "\n",
    "api = 'https://data.cityofnewyork.us/resource/erm2-nwe9.json?$select=unique_key,incident_zip,complaint_type,longitude,latitude&$limit=10000'   \n",
    "\n",
    "r = requests.get(url = api) \n",
    "\n",
    "# extracting data in json format \n",
    "data = r.json() \n",
    "  \n",
    "\n",
    "# Convert to pandas DataFrame\n",
    "results_df = pd.DataFrame.from_records(data)"
   ]
  },
  {
   "cell_type": "code",
   "execution_count": 17,
   "id": "08fbcb0b",
   "metadata": {},
   "outputs": [
    {
     "data": {
      "text/plain": [
       "(10000, 5)"
      ]
     },
     "execution_count": 17,
     "metadata": {},
     "output_type": "execute_result"
    }
   ],
   "source": [
    "results_df.shape"
   ]
  },
  {
   "cell_type": "code",
   "execution_count": 18,
   "id": "2fc48a97",
   "metadata": {},
   "outputs": [
    {
     "data": {
      "text/html": [
       "<div>\n",
       "<style scoped>\n",
       "    .dataframe tbody tr th:only-of-type {\n",
       "        vertical-align: middle;\n",
       "    }\n",
       "\n",
       "    .dataframe tbody tr th {\n",
       "        vertical-align: top;\n",
       "    }\n",
       "\n",
       "    .dataframe thead th {\n",
       "        text-align: right;\n",
       "    }\n",
       "</style>\n",
       "<table border=\"1\" class=\"dataframe\">\n",
       "  <thead>\n",
       "    <tr style=\"text-align: right;\">\n",
       "      <th></th>\n",
       "      <th>unique_key</th>\n",
       "      <th>incident_zip</th>\n",
       "      <th>complaint_type</th>\n",
       "      <th>longitude</th>\n",
       "      <th>latitude</th>\n",
       "    </tr>\n",
       "  </thead>\n",
       "  <tbody>\n",
       "    <tr>\n",
       "      <th>0</th>\n",
       "      <td>41586477</td>\n",
       "      <td>11361</td>\n",
       "      <td>Graffiti</td>\n",
       "      <td>-73.77585495252744</td>\n",
       "      <td>40.75476673729396</td>\n",
       "    </tr>\n",
       "    <tr>\n",
       "      <th>1</th>\n",
       "      <td>43965653</td>\n",
       "      <td>11207</td>\n",
       "      <td>Day Care</td>\n",
       "      <td>-73.89996311713381</td>\n",
       "      <td>40.66708148016959</td>\n",
       "    </tr>\n",
       "    <tr>\n",
       "      <th>2</th>\n",
       "      <td>43965655</td>\n",
       "      <td>11377</td>\n",
       "      <td>Noise - Street/Sidewalk</td>\n",
       "      <td>-73.90338918538406</td>\n",
       "      <td>40.745595681752405</td>\n",
       "    </tr>\n",
       "    <tr>\n",
       "      <th>3</th>\n",
       "      <td>25496160</td>\n",
       "      <td>NaN</td>\n",
       "      <td>Benefit Card Replacement</td>\n",
       "      <td>NaN</td>\n",
       "      <td>NaN</td>\n",
       "    </tr>\n",
       "    <tr>\n",
       "      <th>4</th>\n",
       "      <td>45850152</td>\n",
       "      <td>11204</td>\n",
       "      <td>For Hire Vehicle Complaint</td>\n",
       "      <td>-73.9842616252167</td>\n",
       "      <td>40.60756751748548</td>\n",
       "    </tr>\n",
       "  </tbody>\n",
       "</table>\n",
       "</div>"
      ],
      "text/plain": [
       "  unique_key incident_zip              complaint_type           longitude  \\\n",
       "0   41586477        11361                    Graffiti  -73.77585495252744   \n",
       "1   43965653        11207                    Day Care  -73.89996311713381   \n",
       "2   43965655        11377     Noise - Street/Sidewalk  -73.90338918538406   \n",
       "3   25496160          NaN    Benefit Card Replacement                 NaN   \n",
       "4   45850152        11204  For Hire Vehicle Complaint   -73.9842616252167   \n",
       "\n",
       "             latitude  \n",
       "0   40.75476673729396  \n",
       "1   40.66708148016959  \n",
       "2  40.745595681752405  \n",
       "3                 NaN  \n",
       "4   40.60756751748548  "
      ]
     },
     "execution_count": 18,
     "metadata": {},
     "output_type": "execute_result"
    }
   ],
   "source": [
    "results_df.head()"
   ]
  },
  {
   "cell_type": "markdown",
   "id": "f33b9dff",
   "metadata": {},
   "source": [
    "Running computations on the dataset even after specifying datatypes took almost 8 minutes to run. However, we do see that Noise Complaints are the top complaints in NYC, illegal parking, hot water and heat also are among the top 5.\n",
    "\n",
    "\n",
    "\n",
    "\n",
    "Important Side Notes \n",
    "\n",
    " - specifying dtypes helps load in data quicker\n",
    " - grab only the columns from the API if the dataset is huge, many datasets such as this one have an API which you can call\n",
    " - If building models, grab only a sample of the entire dataset, its distribution will likely be the same as the total dataset"
   ]
  }
 ],
 "metadata": {
  "kernelspec": {
   "display_name": "Python 3",
   "language": "python",
   "name": "python3"
  },
  "language_info": {
   "codemirror_mode": {
    "name": "ipython",
    "version": 3
   },
   "file_extension": ".py",
   "mimetype": "text/x-python",
   "name": "python",
   "nbconvert_exporter": "python",
   "pygments_lexer": "ipython3",
   "version": "3.8.8"
  }
 },
 "nbformat": 4,
 "nbformat_minor": 5
}
